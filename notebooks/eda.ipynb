{
 "cells": [
  {
   "cell_type": "markdown",
   "id": "5915c6cb",
   "metadata": {},
   "source": [
    "Load the full CFPB complaint dataset"
   ]
  },
  {
   "cell_type": "code",
   "execution_count": 7,
   "id": "d3968837",
   "metadata": {},
   "outputs": [
    {
     "name": "stderr",
     "output_type": "stream",
     "text": [
      "C:\\Users\\HP\\AppData\\Local\\Temp\\ipykernel_24508\\690134955.py:7: DtypeWarning: Columns (16) have mixed types. Specify dtype option on import or set low_memory=False.\n",
      "  df = pd.read_csv(data_path)\n"
     ]
    },
    {
     "name": "stdout",
     "output_type": "stream",
     "text": [
      "<class 'pandas.core.frame.DataFrame'>\n",
      "RangeIndex: 9609797 entries, 0 to 9609796\n",
      "Data columns (total 18 columns):\n",
      " #   Column                        Dtype \n",
      "---  ------                        ----- \n",
      " 0   Date received                 object\n",
      " 1   Product                       object\n",
      " 2   Sub-product                   object\n",
      " 3   Issue                         object\n",
      " 4   Sub-issue                     object\n",
      " 5   Consumer complaint narrative  object\n",
      " 6   Company public response       object\n",
      " 7   Company                       object\n",
      " 8   State                         object\n",
      " 9   ZIP code                      object\n",
      " 10  Tags                          object\n",
      " 11  Consumer consent provided?    object\n",
      " 12  Submitted via                 object\n",
      " 13  Date sent to company          object\n",
      " 14  Company response to consumer  object\n",
      " 15  Timely response?              object\n",
      " 16  Consumer disputed?            object\n",
      " 17  Complaint ID                  int64 \n",
      "dtypes: int64(1), object(17)\n",
      "memory usage: 1.3+ GB\n",
      "None\n",
      "  Date received                                            Product  \\\n",
      "0    2025-06-20  Credit reporting or other personal consumer re...   \n",
      "1    2025-06-20                                    Debt collection   \n",
      "2    2025-06-20  Credit reporting or other personal consumer re...   \n",
      "3    2025-06-20  Credit reporting or other personal consumer re...   \n",
      "4    2025-06-20  Credit reporting or other personal consumer re...   \n",
      "\n",
      "               Sub-product                                 Issue  \\\n",
      "0         Credit reporting  Incorrect information on your report   \n",
      "1  Telecommunications debt     Attempts to collect debt not owed   \n",
      "2         Credit reporting           Improper use of your report   \n",
      "3         Credit reporting           Improper use of your report   \n",
      "4         Credit reporting  Incorrect information on your report   \n",
      "\n",
      "                                       Sub-issue Consumer complaint narrative  \\\n",
      "0            Information belongs to someone else                          NaN   \n",
      "1                              Debt is not yours                          NaN   \n",
      "2  Reporting company used your report improperly                          NaN   \n",
      "3  Reporting company used your report improperly                          NaN   \n",
      "4                       Account status incorrect                          NaN   \n",
      "\n",
      "                             Company public response  \\\n",
      "0                                                NaN   \n",
      "1  Company can't verify or dispute the facts in t...   \n",
      "2                                                NaN   \n",
      "3                                                NaN   \n",
      "4                                                NaN   \n",
      "\n",
      "                                        Company State ZIP code Tags  \\\n",
      "0           Experian Information Solutions Inc.    FL    32092  NaN   \n",
      "1  Eastern Account Systems of Connecticut, Inc.    FL    342XX  NaN   \n",
      "2        TRANSUNION INTERMEDIATE HOLDINGS, INC.    AZ    85225  NaN   \n",
      "3           Experian Information Solutions Inc.    AZ    85225  NaN   \n",
      "4           Experian Information Solutions Inc.    IL    60628  NaN   \n",
      "\n",
      "  Consumer consent provided? Submitted via Date sent to company  \\\n",
      "0                        NaN           Web           2025-06-20   \n",
      "1                        NaN           Web           2025-06-20   \n",
      "2                        NaN           Web           2025-06-20   \n",
      "3                        NaN           Web           2025-06-20   \n",
      "4                        NaN           Web           2025-06-20   \n",
      "\n",
      "  Company response to consumer Timely response? Consumer disputed?  \\\n",
      "0                  In progress              Yes                NaN   \n",
      "1      Closed with explanation              Yes                NaN   \n",
      "2                  In progress              Yes                NaN   \n",
      "3                  In progress              Yes                NaN   \n",
      "4                  In progress              Yes                NaN   \n",
      "\n",
      "   Complaint ID  \n",
      "0      14195687  \n",
      "1      14195688  \n",
      "2      14195689  \n",
      "3      14195690  \n",
      "4      14195692  \n"
     ]
    }
   ],
   "source": [
    "import pandas as pd\n",
    "\n",
    "# Path to the dataset CSV file\n",
    "data_path = '../data/raw/complaints/complaints.csv'\n",
    "\n",
    "# Load the dataset into a DataFrame\n",
    "df = pd.read_csv(data_path)\n",
    "\n",
    "# Show basic info and first few rows\n",
    "print(df.info())\n",
    "print(df.head())\n"
   ]
  },
  {
   "cell_type": "code",
   "execution_count": null,
   "id": "813ae26c",
   "metadata": {},
   "outputs": [],
   "source": []
  }
 ],
 "metadata": {
  "kernelspec": {
   "display_name": ".venv",
   "language": "python",
   "name": "python3"
  },
  "language_info": {
   "codemirror_mode": {
    "name": "ipython",
    "version": 3
   },
   "file_extension": ".py",
   "mimetype": "text/x-python",
   "name": "python",
   "nbconvert_exporter": "python",
   "pygments_lexer": "ipython3",
   "version": "3.12.5"
  }
 },
 "nbformat": 4,
 "nbformat_minor": 5
}
